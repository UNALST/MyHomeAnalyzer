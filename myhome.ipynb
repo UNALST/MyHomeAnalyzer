{
 "cells": [
  {
   "cell_type": "markdown",
   "id": "2ac7fc98d742f3cc",
   "metadata": {
    "collapsed": false,
    "jupyter": {
     "outputs_hidden": false
    }
   },
   "source": [
    "# Imports"
   ]
  },
  {
   "cell_type": "code",
   "execution_count": null,
   "id": "cef36a7771371f59",
   "metadata": {
    "ExecuteTime": {
     "end_time": "2024-02-21T13:21:36.544566300Z",
     "start_time": "2024-02-21T13:21:36.512565900Z"
    },
    "collapsed": false,
    "jupyter": {
     "outputs_hidden": false
    }
   },
   "outputs": [],
   "source": [
    "import requests\n",
    "\n",
    "from bs4 import BeautifulSoup\n",
    "import json\n",
    "import csv"
   ]
  },
  {
   "cell_type": "markdown",
   "id": "e3659ce05d16fc58",
   "metadata": {
    "collapsed": false,
    "jupyter": {
     "outputs_hidden": false
    }
   },
   "source": [
    "# Define Query"
   ]
  },
  {
   "cell_type": "code",
   "execution_count": null,
   "id": "e7cf9937ef5af8bf",
   "metadata": {
    "ExecuteTime": {
     "end_time": "2024-02-21T13:17:46.863487300Z",
     "start_time": "2024-02-21T13:17:46.837486400Z"
    },
    "collapsed": false,
    "jupyter": {
     "outputs_hidden": false
    }
   },
   "outputs": [],
   "source": [
    "query = {\n",
    "    \"AdTypeID\": \"1\",\n",
    "    \"PrTypeID\": \"1\",\n",
    "    \"cities\": \"1\",\n",
    "    \"districts\": \"106.28.29.30.38.39.40.41.42.43.46.47.48.101\",\n",
    "    \"regions\": \"4\",\n",
    "    \"WithPhoto\": \"1\"\n",
    "}\n",
    "\n",
    "url_before = \"https://www.myhome.ge/ka/s/iyideba-bina-Tbilisi/?Keyword=%E1%83%95%E1%83%90%E1%83%99%E1%83%94-%E1%83%A1%E1%83%90%E1%83%91%E1%83%A3%E1%83%A0%E1%83%97%E1%83%90%E1%83%9A%E1%83%9D&AdTypeID=\" + query[\"AdTypeID\"] + \"&PrTypeID=\" + query[\"PrTypeID\"] + \"&cities=\" + query[\"cities\"] + \"&districts=\" + query[\"districts\"] + \"&regions=\" + query[\"regions\"] + \"&CardView=1&OwnerTypeID=1&Page=\"\n",
    "url_after = \"&WithPhoto=\" + query[\"WithPhoto\"]"
   ]
  },
  {
   "cell_type": "markdown",
   "id": "b3914fe1a5266c0a",
   "metadata": {
    "collapsed": false,
    "jupyter": {
     "outputs_hidden": false
    }
   },
   "source": [
    "# Scrape"
   ]
  },
  {
   "cell_type": "code",
   "execution_count": null,
   "id": "284893a1bd8abc15",
   "metadata": {
    "ExecuteTime": {
     "end_time": "2024-02-21T13:17:46.877484900Z",
     "start_time": "2024-02-21T13:17:46.858492500Z"
    },
    "collapsed": false,
    "jupyter": {
     "outputs_hidden": false
    }
   },
   "outputs": [],
   "source": [
    "apartments = []"
   ]
  },
  {
   "cell_type": "code",
   "execution_count": null,
   "id": "f6acedf3662295f1",
   "metadata": {
    "ExecuteTime": {
     "end_time": "2024-02-21T13:17:46.901484200Z",
     "start_time": "2024-02-21T13:17:46.881484Z"
    },
    "collapsed": false,
    "jupyter": {
     "outputs_hidden": false
    }
   },
   "outputs": [],
   "source": [
    "def get_query_response(page):\n",
    "    url = url_before + str(page) + url_after\n",
    "\n",
    "    soup = BeautifulSoup(requests.get(url).content, 'html.parser')\n",
    "    queries = json.loads(soup.find('script', type='application/json').text)[\"props\"][\"pageProps\"][\"dehydratedState\"][\"queries\"]\n",
    "\n",
    "    for saved_query in queries:\n",
    "        key = saved_query[\"queryKey\"]\n",
    "\n",
    "        if len(key) < 3:\n",
    "            continue\n",
    "        key = key[2][\"query\"]\n",
    "\n",
    "        cont = False\n",
    "        \n",
    "        # Ensure the query found is the query we sent\n",
    "        for k in query.keys():\n",
    "            if k not in key:\n",
    "                cont = True\n",
    "                break\n",
    "            if key[k] != query[k]:\n",
    "                cont = True\n",
    "                break\n",
    "        if cont or key[\"Page\"] != str(page):\n",
    "            continue\n",
    "        return saved_query\n",
    "    return None"
   ]
  },
  {
   "cell_type": "code",
   "execution_count": null,
   "id": "26caa2648b234412",
   "metadata": {
    "ExecuteTime": {
     "end_time": "2024-02-21T13:20:07.184618600Z",
     "start_time": "2024-02-21T13:17:46.894482100Z"
    },
    "collapsed": false,
    "jupyter": {
     "outputs_hidden": false
    }
   },
   "outputs": [],
   "source": [
    "print(\"URL =\", url_before + \"1\" + url_after)\n",
    "\n",
    "information = get_query_response(1)\n",
    "\n",
    "if not information:\n",
    "    print(\"Unable to find query response\")\n",
    "    quit()\n",
    "from_page = 1\n",
    "to_page = int(information[\"state\"][\"data\"][\"data\"][\"last_page\"])\n",
    "\n",
    "for page in range(from_page, to_page + 1):\n",
    "    response = get_query_response(page)\n",
    "    \n",
    "    if response:\n",
    "        apartments.extend(response[\"state\"][\"data\"][\"data\"][\"children\"])\n",
    "    print(\"Page =\", str(page) + \"/\" + str(to_page), \"| Apartments =\", len(apartments))"
   ]
  },
  {
   "cell_type": "markdown",
   "id": "f531033c0ecbb6a3",
   "metadata": {
    "collapsed": false,
    "jupyter": {
     "outputs_hidden": false
    }
   },
   "source": [
    "# Clean Data"
   ]
  },
  {
   "cell_type": "code",
   "execution_count": null,
   "id": "2de6744a77d7797a",
   "metadata": {
    "ExecuteTime": {
     "end_time": "2024-02-21T13:26:09.973194700Z",
     "start_time": "2024-02-21T13:26:09.939194100Z"
    },
    "collapsed": false,
    "jupyter": {
     "outputs_hidden": false
    }
   },
   "outputs": [],
   "source": [
    "apartments = [ apartment for apartment in apartments if apartment[\"price\"][\"total_price\"][\"usd\"] <= 300_000 ]\n",
    "\n",
    "for apartment in apartments:\n",
    "    if \"ძველი\" in apartment[\"title\"]:\n",
    "        apartment[\"title\"] = \"ძველი\"\n",
    "    elif \"ახალი\" in apartment[\"title\"]:\n",
    "        apartment[\"title\"] = \"ახალი\"\n",
    "    elif \"მშენებარე\" in apartment[\"title\"]:\n",
    "        apartment[\"title\"] = \"მშენებარე\""
   ]
  },
  {
   "cell_type": "markdown",
   "id": "2e26346edb801f60",
   "metadata": {
    "collapsed": false,
    "jupyter": {
     "outputs_hidden": false
    }
   },
   "source": [
    "# Write to CSV"
   ]
  },
  {
   "cell_type": "code",
   "execution_count": null,
   "id": "49a93545ec8ab8d2",
   "metadata": {
    "ExecuteTime": {
     "end_time": "2024-02-21T13:28:08.390938200Z",
     "start_time": "2024-02-21T13:28:08.355405100Z"
    },
    "collapsed": false,
    "jupyter": {
     "outputs_hidden": false
    }
   },
   "outputs": [],
   "source": [
    "with open('apartments.csv', 'w', newline='', encoding='utf-8') as file:\n",
    "    writer = csv.writer(file)\n",
    "\n",
    "    field = [\"id\", \"neighborhood\", \"street\", \"title\", \"price\", \"floor\", \"total_floors\", \"rooms\", \"bedrooms\", \"sqm\"]\n",
    "    writer.writerow(field)\n",
    "\n",
    "    for apartment in apartments:\n",
    "        id = apartment[\"id\"]\n",
    "        neighborhood = apartment[\"place\"]\n",
    "        street = apartment[\"desc_text\"]\n",
    "        title = apartment[\"title\"]\n",
    "        price = apartment[\"price\"][\"total_price\"][\"usd\"]\n",
    "        \n",
    "        facilities = apartment[\"facilities\"]\n",
    "        floors = facilities[0][\"label\"].split(\"/\")\n",
    "        floor = floors[0]\n",
    "        total_floors = floors[1]\n",
    "        rooms = int(float(facilities[1][\"label\"]))\n",
    "        bedrooms = facilities[2][\"label\"]\n",
    "        sqm = float(facilities[3][\"label\"])\n",
    "\n",
    "        writer.writerow([id, neighborhood, street, title, price, floor, total_floors, rooms, bedrooms, sqm])"
   ]
  },
  {
   "cell_type": "code",
   "execution_count": null,
   "id": "1e3c4f5a13168438",
   "metadata": {
    "collapsed": false,
    "jupyter": {
     "outputs_hidden": false
    }
   },
   "outputs": [],
   "source": []
  }
 ],
 "metadata": {
  "kernelspec": {
   "display_name": "Python 3 (ipykernel)",
   "language": "python",
   "name": "python3"
  },
  "language_info": {
   "codemirror_mode": {
    "name": "ipython",
    "version": 3
   },
   "file_extension": ".py",
   "mimetype": "text/x-python",
   "name": "python",
   "nbconvert_exporter": "python",
   "pygments_lexer": "ipython3",
   "version": "3.8.3"
  }
 },
 "nbformat": 4,
 "nbformat_minor": 5
}
