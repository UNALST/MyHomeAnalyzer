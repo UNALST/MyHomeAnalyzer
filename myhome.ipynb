{
 "cells": [
  {
   "cell_type": "markdown",
   "source": [
    "# Imports"
   ],
   "metadata": {
    "collapsed": false
   },
   "id": "2ac7fc98d742f3cc"
  },
  {
   "cell_type": "code",
   "outputs": [],
   "source": [
    "import requests\n",
    "\n",
    "from bs4 import BeautifulSoup\n",
    "import json\n",
    "import csv"
   ],
   "metadata": {
    "collapsed": false,
    "ExecuteTime": {
     "end_time": "2024-02-21T13:21:36.544566300Z",
     "start_time": "2024-02-21T13:21:36.512565900Z"
    }
   },
   "id": "cef36a7771371f59",
   "execution_count": 16
  },
  {
   "cell_type": "markdown",
   "source": [
    "# Define Query"
   ],
   "metadata": {
    "collapsed": false
   },
   "id": "e3659ce05d16fc58"
  },
  {
   "cell_type": "code",
   "outputs": [],
   "source": [
    "query = {\n",
    "    \"AdTypeID\": \"1\",\n",
    "    \"PrTypeID\": \"1\",\n",
    "    \"cities\": \"1\",\n",
    "    \"districts\": \"106.28.29.30.38.39.40.41.42.43.46.47.48.101\",\n",
    "    \"regions\": \"4\",\n",
    "    \"WithPhoto\": \"1\"\n",
    "}\n",
    "\n",
    "url_before = \"https://www.myhome.ge/ka/s/iyideba-bina-Tbilisi/?Keyword=%E1%83%95%E1%83%90%E1%83%99%E1%83%94-%E1%83%A1%E1%83%90%E1%83%91%E1%83%A3%E1%83%A0%E1%83%97%E1%83%90%E1%83%9A%E1%83%9D&AdTypeID=\" + query[\"AdTypeID\"] + \"&PrTypeID=\" + query[\"PrTypeID\"] + \"&cities=\" + query[\"cities\"] + \"&districts=\" + query[\"districts\"] + \"&regions=\" + query[\"regions\"] + \"&CardView=1&OwnerTypeID=1&Page=\"\n",
    "url_after = \"&WithPhoto=\" + query[\"WithPhoto\"]"
   ],
   "metadata": {
    "collapsed": false,
    "ExecuteTime": {
     "end_time": "2024-02-21T13:17:46.863487300Z",
     "start_time": "2024-02-21T13:17:46.837486400Z"
    }
   },
   "id": "e7cf9937ef5af8bf",
   "execution_count": 12
  },
  {
   "cell_type": "markdown",
   "source": [
    "# Scrape"
   ],
   "metadata": {
    "collapsed": false
   },
   "id": "b3914fe1a5266c0a"
  },
  {
   "cell_type": "code",
   "outputs": [],
   "source": [
    "apartments = []"
   ],
   "metadata": {
    "collapsed": false,
    "ExecuteTime": {
     "end_time": "2024-02-21T13:17:46.877484900Z",
     "start_time": "2024-02-21T13:17:46.858492500Z"
    }
   },
   "id": "284893a1bd8abc15",
   "execution_count": 13
  },
  {
   "cell_type": "code",
   "outputs": [],
   "source": [
    "def get_query_response(page):\n",
    "    url = url_before + str(page) + url_after\n",
    "\n",
    "    soup = BeautifulSoup(requests.get(url).content, 'html.parser')\n",
    "    queries = json.loads(soup.find('script', type='application/json').text)[\"props\"][\"pageProps\"][\"dehydratedState\"][\"queries\"]\n",
    "\n",
    "    for saved_query in queries:\n",
    "        key = saved_query[\"queryKey\"]\n",
    "\n",
    "        if len(key) < 3:\n",
    "            continue\n",
    "        key = key[2][\"query\"]\n",
    "\n",
    "        cont = False\n",
    "        \n",
    "        # Ensure the query found is the query we sent\n",
    "        for k in query.keys():\n",
    "            if k not in key:\n",
    "                cont = True\n",
    "                break\n",
    "            if key[k] != query[k]:\n",
    "                cont = True\n",
    "                break\n",
    "        if cont or key[\"Page\"] != str(page):\n",
    "            continue\n",
    "        return saved_query\n",
    "    return None"
   ],
   "metadata": {
    "collapsed": false,
    "ExecuteTime": {
     "end_time": "2024-02-21T13:17:46.901484200Z",
     "start_time": "2024-02-21T13:17:46.881484Z"
    }
   },
   "id": "f6acedf3662295f1",
   "execution_count": 14
  },
  {
   "cell_type": "code",
   "outputs": [
    {
     "name": "stdout",
     "output_type": "stream",
     "text": [
      "URL = https://www.myhome.ge/ka/s/iyideba-bina-Tbilisi/?Keyword=%E1%83%95%E1%83%90%E1%83%99%E1%83%94-%E1%83%A1%E1%83%90%E1%83%91%E1%83%A3%E1%83%A0%E1%83%97%E1%83%90%E1%83%9A%E1%83%9D&AdTypeID=1&PrTypeID=1&cities=1&districts=106.28.29.30.38.39.40.41.42.43.46.47.48.101&regions=4&CardView=1&OwnerTypeID=1&Page=1&WithPhoto=1\n",
      "Page = 1/108 | Apartments = 24\n",
      "Page = 2/108 | Apartments = 48\n",
      "Page = 3/108 | Apartments = 72\n",
      "Page = 4/108 | Apartments = 96\n",
      "Page = 5/108 | Apartments = 120\n",
      "Page = 6/108 | Apartments = 144\n",
      "Page = 7/108 | Apartments = 168\n",
      "Page = 8/108 | Apartments = 192\n",
      "Page = 9/108 | Apartments = 216\n",
      "Page = 10/108 | Apartments = 240\n",
      "Page = 11/108 | Apartments = 264\n",
      "Page = 12/108 | Apartments = 288\n",
      "Page = 13/108 | Apartments = 312\n",
      "Page = 14/108 | Apartments = 336\n",
      "Page = 15/108 | Apartments = 360\n",
      "Page = 16/108 | Apartments = 384\n",
      "Page = 17/108 | Apartments = 408\n",
      "Page = 18/108 | Apartments = 432\n",
      "Page = 19/108 | Apartments = 456\n",
      "Page = 20/108 | Apartments = 480\n",
      "Page = 21/108 | Apartments = 504\n",
      "Page = 22/108 | Apartments = 528\n",
      "Page = 23/108 | Apartments = 552\n",
      "Page = 24/108 | Apartments = 576\n",
      "Page = 25/108 | Apartments = 600\n",
      "Page = 26/108 | Apartments = 624\n",
      "Page = 27/108 | Apartments = 648\n",
      "Page = 28/108 | Apartments = 672\n",
      "Page = 29/108 | Apartments = 696\n",
      "Page = 30/108 | Apartments = 720\n",
      "Page = 31/108 | Apartments = 744\n",
      "Page = 32/108 | Apartments = 768\n",
      "Page = 33/108 | Apartments = 792\n",
      "Page = 34/108 | Apartments = 816\n",
      "Page = 35/108 | Apartments = 840\n",
      "Page = 36/108 | Apartments = 864\n",
      "Page = 37/108 | Apartments = 888\n",
      "Page = 38/108 | Apartments = 912\n",
      "Page = 39/108 | Apartments = 936\n",
      "Page = 40/108 | Apartments = 960\n",
      "Page = 41/108 | Apartments = 984\n",
      "Page = 42/108 | Apartments = 1008\n",
      "Page = 43/108 | Apartments = 1032\n",
      "Page = 44/108 | Apartments = 1056\n",
      "Page = 45/108 | Apartments = 1080\n",
      "Page = 46/108 | Apartments = 1104\n",
      "Page = 47/108 | Apartments = 1128\n",
      "Page = 48/108 | Apartments = 1152\n",
      "Page = 49/108 | Apartments = 1176\n",
      "Page = 50/108 | Apartments = 1200\n",
      "Page = 51/108 | Apartments = 1224\n",
      "Page = 52/108 | Apartments = 1248\n",
      "Page = 53/108 | Apartments = 1272\n",
      "Page = 54/108 | Apartments = 1296\n",
      "Page = 55/108 | Apartments = 1320\n",
      "Page = 56/108 | Apartments = 1344\n",
      "Page = 57/108 | Apartments = 1368\n",
      "Page = 58/108 | Apartments = 1392\n",
      "Page = 59/108 | Apartments = 1416\n",
      "Page = 60/108 | Apartments = 1440\n",
      "Page = 61/108 | Apartments = 1464\n",
      "Page = 62/108 | Apartments = 1488\n",
      "Page = 63/108 | Apartments = 1512\n",
      "Page = 64/108 | Apartments = 1536\n",
      "Page = 65/108 | Apartments = 1560\n",
      "Page = 66/108 | Apartments = 1584\n",
      "Page = 67/108 | Apartments = 1608\n",
      "Page = 68/108 | Apartments = 1632\n",
      "Page = 69/108 | Apartments = 1656\n",
      "Page = 70/108 | Apartments = 1680\n",
      "Page = 71/108 | Apartments = 1704\n",
      "Page = 72/108 | Apartments = 1728\n",
      "Page = 73/108 | Apartments = 1752\n",
      "Page = 74/108 | Apartments = 1776\n",
      "Page = 75/108 | Apartments = 1800\n",
      "Page = 76/108 | Apartments = 1824\n",
      "Page = 77/108 | Apartments = 1848\n",
      "Page = 78/108 | Apartments = 1872\n",
      "Page = 79/108 | Apartments = 1896\n",
      "Page = 80/108 | Apartments = 1920\n",
      "Page = 81/108 | Apartments = 1944\n",
      "Page = 82/108 | Apartments = 1968\n",
      "Page = 83/108 | Apartments = 1992\n",
      "Page = 84/108 | Apartments = 2016\n",
      "Page = 85/108 | Apartments = 2040\n",
      "Page = 86/108 | Apartments = 2064\n",
      "Page = 87/108 | Apartments = 2088\n",
      "Page = 88/108 | Apartments = 2112\n",
      "Page = 89/108 | Apartments = 2136\n",
      "Page = 90/108 | Apartments = 2160\n",
      "Page = 91/108 | Apartments = 2184\n",
      "Page = 92/108 | Apartments = 2208\n",
      "Page = 93/108 | Apartments = 2232\n",
      "Page = 94/108 | Apartments = 2256\n",
      "Page = 95/108 | Apartments = 2280\n",
      "Page = 96/108 | Apartments = 2304\n",
      "Page = 97/108 | Apartments = 2328\n",
      "Page = 98/108 | Apartments = 2352\n",
      "Page = 99/108 | Apartments = 2376\n",
      "Page = 100/108 | Apartments = 2400\n",
      "Page = 101/108 | Apartments = 2424\n",
      "Page = 102/108 | Apartments = 2448\n",
      "Page = 103/108 | Apartments = 2472\n",
      "Page = 104/108 | Apartments = 2496\n",
      "Page = 105/108 | Apartments = 2520\n",
      "Page = 106/108 | Apartments = 2544\n",
      "Page = 107/108 | Apartments = 2568\n",
      "Page = 108/108 | Apartments = 2590\n"
     ]
    }
   ],
   "source": [
    "print(\"URL =\", url_before + \"1\" + url_after)\n",
    "\n",
    "information = get_query_response(1)\n",
    "\n",
    "if not information:\n",
    "    print(\"Unable to find query response\")\n",
    "    quit()\n",
    "from_page = 1\n",
    "to_page = int(information[\"state\"][\"data\"][\"data\"][\"last_page\"])\n",
    "\n",
    "for page in range(from_page, to_page + 1):\n",
    "    response = get_query_response(page)\n",
    "    \n",
    "    if response:\n",
    "        apartments.extend(response[\"state\"][\"data\"][\"data\"][\"children\"])\n",
    "    print(\"Page =\", str(page) + \"/\" + str(to_page), \"| Apartments =\", len(apartments))"
   ],
   "metadata": {
    "collapsed": false,
    "ExecuteTime": {
     "end_time": "2024-02-21T13:20:07.184618600Z",
     "start_time": "2024-02-21T13:17:46.894482100Z"
    }
   },
   "id": "26caa2648b234412",
   "execution_count": 15
  },
  {
   "cell_type": "markdown",
   "source": [
    "# Clean Data"
   ],
   "metadata": {
    "collapsed": false
   },
   "id": "f531033c0ecbb6a3"
  },
  {
   "cell_type": "code",
   "outputs": [
    {
     "name": "stdout",
     "output_type": "stream",
     "text": [
      "2438\n"
     ]
    }
   ],
   "source": [
    "apartments = [ apartment for apartment in apartments if apartment[\"price\"][\"total_price\"][\"usd\"] <= 300_000 ]\n",
    "\n",
    "for apartment in apartments:\n",
    "    if \"ძველი\" in apartment[\"title\"]:\n",
    "        apartment[\"title\"] = \"ძველი\"\n",
    "    elif \"ახალი\" in apartment[\"title\"]:\n",
    "        apartment[\"title\"] = \"ახალი\"\n",
    "    elif \"მშენებარე\" in apartment[\"title\"]:\n",
    "        apartment[\"title\"] = \"მშენებარე\""
   ],
   "metadata": {
    "collapsed": false,
    "ExecuteTime": {
     "end_time": "2024-02-21T13:26:09.973194700Z",
     "start_time": "2024-02-21T13:26:09.939194100Z"
    }
   },
   "id": "2de6744a77d7797a",
   "execution_count": 21
  },
  {
   "cell_type": "markdown",
   "source": [
    "# Write to CSV"
   ],
   "metadata": {
    "collapsed": false
   },
   "id": "2e26346edb801f60"
  },
  {
   "cell_type": "code",
   "outputs": [],
   "source": [
    "with open('apartments.csv', 'w', newline='', encoding='utf-8') as file:\n",
    "    writer = csv.writer(file)\n",
    "\n",
    "    field = [\"id\", \"neighborhood\", \"street\", \"title\", \"price\", \"floor\", \"total_floors\", \"rooms\", \"bedrooms\", \"sqm\"]\n",
    "    writer.writerow(field)\n",
    "\n",
    "    for apartment in apartments:\n",
    "        id = apartment[\"id\"]\n",
    "        neighborhood = apartment[\"place\"]\n",
    "        street = apartment[\"desc_text\"]\n",
    "        title = apartment[\"title\"]\n",
    "        price = apartment[\"price\"][\"total_price\"][\"usd\"]\n",
    "        \n",
    "        facilities = apartment[\"facilities\"]\n",
    "        floors = facilities[0][\"label\"].split(\"/\")\n",
    "        floor = floors[0]\n",
    "        total_floors = floors[1]\n",
    "        rooms = int(float(facilities[1][\"label\"]))\n",
    "        bedrooms = facilities[2][\"label\"]\n",
    "        sqm = float(facilities[3][\"label\"])\n",
    "\n",
    "        writer.writerow([id, neighborhood, street, title, price, floor, total_floors, rooms, bedrooms, sqm])"
   ],
   "metadata": {
    "collapsed": false,
    "ExecuteTime": {
     "end_time": "2024-02-21T13:28:08.390938200Z",
     "start_time": "2024-02-21T13:28:08.355405100Z"
    }
   },
   "id": "49a93545ec8ab8d2",
   "execution_count": 24
  },
  {
   "cell_type": "code",
   "outputs": [],
   "source": [],
   "metadata": {
    "collapsed": false
   },
   "id": "1e3c4f5a13168438"
  }
 ],
 "metadata": {
  "kernelspec": {
   "display_name": "Python 3",
   "language": "python",
   "name": "python3"
  },
  "language_info": {
   "codemirror_mode": {
    "name": "ipython",
    "version": 2
   },
   "file_extension": ".py",
   "mimetype": "text/x-python",
   "name": "python",
   "nbconvert_exporter": "python",
   "pygments_lexer": "ipython2",
   "version": "2.7.6"
  }
 },
 "nbformat": 4,
 "nbformat_minor": 5
}
